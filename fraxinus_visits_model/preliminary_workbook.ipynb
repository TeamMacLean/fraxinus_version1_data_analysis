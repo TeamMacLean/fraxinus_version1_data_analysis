{
 "metadata": {
  "name": "",
  "signature": "sha256:afe7e59e62a7dc884916e6f4ea38d872fcd6fbcca61b1a116925c8c401305504"
 },
 "nbformat": 3,
 "nbformat_minor": 0,
 "worksheets": [
  {
   "cells": [
    {
     "cell_type": "markdown",
     "metadata": {},
     "source": [
      "$x=players\\\\\n",
      "y=nonplayers\\\\\n",
      "*->x ---k1\\\\\n",
      "x->y ---k2\\\\\n",
      "y->x ---k3\\\\\n",
      "y->* ---k4$"
     ]
    },
    {
     "cell_type": "code",
     "collapsed": false,
     "input": [
      "k1=0.01\n",
      "k2=10.0\n",
      "k3=0.01\n",
      "k4=0.01\n",
      "k5=100.01\n",
      "\n",
      "xl=[]\n",
      "yl=[]\n",
      "dt=0.0001\n",
      "tf=10.0\n",
      "tprt=0.1\n",
      "xo=50000\n",
      "yo=0.0\n",
      "xn=xo\n",
      "yn=yo\n",
      "xl.append(xn)\n",
      "yl.append(yn)\n",
      "t=0.0\n",
      "while t<tf:\n",
      "        #print t\n",
      "        xno=xn\n",
      "        yno=yn\n",
      "        xn+=dt*(k1+k3*yno-k2*xno)\n",
      "        yn+=dt*(k2*xno-k4*yno-k5)\n",
      "        if(t>tprt):\n",
      "            xl.append(xn)\n",
      "            yl.append(yn)\n",
      "            tprt+=0.1\n",
      "            #print t\n",
      "        if yn<0.0:\n",
      "            print(\"bye!\")\n",
      "            break\n",
      "        t+=dt\n",
      "        #print t\n",
      "        #raw_input()\n",
      "print(\"DONE\")\n"
     ],
     "language": "python",
     "metadata": {},
     "outputs": [
      {
       "output_type": "stream",
       "stream": "stdout",
       "text": [
        "DONE\n"
       ]
      }
     ],
     "prompt_number": 3
    },
    {
     "cell_type": "code",
     "collapsed": false,
     "input": [
      "#import matplotlib.pyplot as plt\n",
      "#plt.plot(xl,\"*\")\n",
      "#plt.plot(yl,\"-\")\n",
      "#print xn\n"
     ],
     "language": "python",
     "metadata": {},
     "outputs": [],
     "prompt_number": 58
    },
    {
     "cell_type": "code",
     "collapsed": false,
     "input": [
      "import math as mth\n",
      "import random\n",
      "No=5000\n",
      "lmda=0.8\n",
      "t=[]\n",
      "np={}\n",
      "\n",
      "t=range(1,360)\n",
      "#print t\n",
      "np[0]=No\n",
      "delta=0\n",
      "deltb=0\n",
      "trelease=[10,50,75,100,150]\n",
      "\n",
      "for i in t:\n",
      "    if i in trelease:\n",
      "        delta = random.randint(10000, 50000)*1/i\n",
      "        deltb = random.randint(2000, 5000)*1/i\n",
      "        print delta, deltb\n",
      "    else: \n",
      "        delta=0\n",
      "        deltb=0\n",
      "        \n",
      "    #np[i]=-mth.log(i)+lmda*np[i-1]+delta\n",
      "    #np[i]=(0.00000000001/(i+1.0))+lmda*np[i-1]+delta\n",
      "    #np[i]=(1/(i+1))+lmda*np[i-1]+delta\n",
      "    #qx=50+random.randint(-20,20)\n",
      "    qx=random.randint(0,20)\n",
      "    #np[i]=qx+lmda*np[i-1]+delta\n",
      "    #new = math.exp(-i)*np[i-1]+delta\n",
      "    new = 0.25*np[i-1]+delta\n",
      "    rep = 1/i*np[i-1]+deltb\n",
      "    np[i]=new+rep\n",
      "    #print new, rep\n",
      "    #print np[i-1], np[i]\n",
      "    #print i\n",
      "    \n",
      "#print np"
     ],
     "language": "python",
     "metadata": {},
     "outputs": [
      {
       "output_type": "stream",
       "stream": "stdout",
       "text": [
        "2071 332\n",
        "230 67\n",
        "611 50\n",
        "438 33\n",
        "175 28\n"
       ]
      }
     ],
     "prompt_number": 37
    },
    {
     "cell_type": "code",
     "collapsed": false,
     "input": [
      "import matplotlib.pyplot as plt\n",
      "plt.plot(np.keys(),np.values())\n",
      "plt.yscale('log')\n",
      "#plt.xscale('log')\n",
      "#plt.plot(yl,\"-\")\n",
      "\n"
     ],
     "language": "python",
     "metadata": {},
     "outputs": [
      {
       "metadata": {},
       "output_type": "display_data",
       "png": "[encoded data removed]",
       "text": [
        "<matplotlib.figure.Figure at 0x10d329250>"
       ]
      }
     ],
     "prompt_number": 38
    },
    {
     "cell_type": "code",
     "collapsed": false,
     "input": [],
     "language": "python",
     "metadata": {},
     "outputs": []
    }
   ],
   "metadata": {}
  }
 ]
}