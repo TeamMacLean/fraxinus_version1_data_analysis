{
 "metadata": {
  "name": "",
  "signature": "sha256:0c765fc2ec45e17d20c6327ac62be0391a542f7f2d4ccd9130f749d964a73b88"
 },
 "nbformat": 3,
 "nbformat_minor": 0,
 "worksheets": [
  {
   "cells": [
    {
     "cell_type": "markdown",
     "metadata": {},
     "source": [
      "$x=players\\\\\n",
      "y=nonplayers\\\\\n",
      "*->x ---k1\\\\\n",
      "x->y ---k2\\\\\n",
      "y->x ---k3\\\\\n",
      "y->* ---k4$"
     ]
    },
    {
     "cell_type": "code",
     "collapsed": false,
     "input": [
      "k1=0.01\n",
      "k2=10.0\n",
      "k3=0.01\n",
      "k4=0.01\n",
      "k5=100.01\n",
      "\n",
      "xl=[]\n",
      "yl=[]\n",
      "dt=0.0001\n",
      "tf=10.0\n",
      "tprt=0.1\n",
      "xo=50000\n",
      "yo=0.0\n",
      "xn=xo\n",
      "yn=yo\n",
      "xl.append(xn)\n",
      "yl.append(yn)\n",
      "t=0.0\n",
      "while t<tf:\n",
      "        #print t\n",
      "        xno=xn\n",
      "        yno=yn\n",
      "        xn+=dt*(k1+k3*yno-k2*xno)\n",
      "        yn+=dt*(k2*xno-k4*yno-k5)\n",
      "        if(t>tprt):\n",
      "            xl.append(xn)\n",
      "            yl.append(yn)\n",
      "            tprt+=0.1\n",
      "            #print t\n",
      "        if yn<0.0:\n",
      "            print(\"bye!\")\n",
      "            break\n",
      "        t+=dt\n",
      "        #print t\n",
      "        #raw_input()\n",
      "print(\"DONE\")\n"
     ],
     "language": "python",
     "metadata": {},
     "outputs": [
      {
       "output_type": "stream",
       "stream": "stdout",
       "text": [
        "DONE\n"
       ]
      }
     ],
     "prompt_number": 3
    },
    {
     "cell_type": "code",
     "collapsed": false,
     "input": [
      "#import matplotlib.pyplot as plt\n",
      "#plt.plot(xl,\"*\")\n",
      "#plt.plot(yl,\"-\")\n",
      "#print xn\n"
     ],
     "language": "python",
     "metadata": {},
     "outputs": [],
     "prompt_number": 58
    },
    {
     "cell_type": "code",
     "collapsed": false,
     "input": [
      "import math as mth\n",
      "import random\n",
      "No=5000.0\n",
      "lmda=0.9\n",
      "t=[]\n",
      "np={}\n",
      "\n",
      "t=range(1,360)\n",
      "#print t\n",
      "np[0]=No\n",
      "delta=0.0\n",
      "trelease=[10.0,50.0,100.0,200.0]\n",
      "\n",
      "for i in t:\n",
      "    if i in trelease:\n",
      "        delta = random.randint(5000, 10000)*1/i\n",
      "        print delta\n",
      "    else: \n",
      "        delta=0.0\n",
      "        \n",
      "    #np[i]=-mth.log(i)+lmda*np[i-1]+delta\n",
      "    #np[i]=(0.00000000001/(i+1.0))+lmda*np[i-1]+delta\n",
      "    #np[i]=(1/(i+1))+lmda*np[i-1]+delta\n",
      "    qx=50+random.randint(-20,20)\n",
      "    #qx=random.randint(0,20)\n",
      "    np[i]=qx+lmda*np[i-1]+delta\n",
      "    \n",
      "    #print np[i-1], np[i]\n",
      "    #print i\n",
      "    \n",
      "#print np"
     ],
     "language": "python",
     "metadata": {},
     "outputs": [
      {
       "output_type": "stream",
       "stream": "stdout",
       "text": [
        "860\n",
        "148\n",
        "86\n",
        "49\n"
       ]
      }
     ],
     "prompt_number": 7
    },
    {
     "cell_type": "code",
     "collapsed": false,
     "input": [
      "import matplotlib.pyplot as plt\n",
      "plt.plot(np.keys(),np.values())\n",
      "plt.yscale('log')\n",
      "plt.xscale('log')\n",
      "#plt.plot(yl,\"-\")\n",
      "\n"
     ],
     "language": "python",
     "metadata": {},
     "outputs": [
      {
       "metadata": {},
       "output_type": "display_data",
       "png": "[encoded data removed]",
       "text": [
        "<matplotlib.figure.Figure at 0x11325ded0>"
       ]
      }
     ],
     "prompt_number": 8
    },
    {
     "cell_type": "code",
     "collapsed": false,
     "input": [
      "import math as mth\n",
      "import random as rk\n",
      "No=5000\n",
      "t=range(1,400)\n",
      "#print t\n",
      "\n",
      "trelease=[10,50,150,200]\n",
      "#print trelease\n",
      "import math as mth\n",
      "np={}\n",
      "np[0]=No\n",
      "for i in t:\n",
      "    if i in trelease:\n",
      "        #delta = random.randint(10000)*5/i\n",
      "        delta = No*4/i\n",
      "        print delta\n",
      "    else: \n",
      "        delta=0.0\n",
      "    npa = rk.normalvariate(5000*mth.pow(i,-1.674), 3.0)+delta\n",
      "    npb = rk.normalvariate(1000*mth.pow(i,-0.764), 3.0)\n",
      "    np[i]= npa + npb\n",
      "    # print npa, npb\n",
      "\n",
      "import matplotlib.pyplot as plt\n",
      "fig, axes = plt.subplots(1, 1, figsize=(20, 8))  \n",
      "plt.plot(np.keys(),np.values(),\"-o\")\n",
      "#plt.yscale('log')\n",
      "#plt.xscale('log')\n",
      "    "
     ],
     "language": "python",
     "metadata": {},
     "outputs": [
      {
       "output_type": "stream",
       "stream": "stdout",
       "text": [
        "2000\n",
        "400\n",
        "133\n",
        "100\n"
       ]
      },
      {
       "metadata": {},
       "output_type": "pyout",
       "prompt_number": 16,
       "text": [
        "[<matplotlib.lines.Line2D at 0x110f66e50>]"
       ]
      },
      {
       "metadata": {},
       "output_type": "display_data",
       "png": "[encoded data removed]",
       "text": [
        "<matplotlib.figure.Figure at 0x11123de10>"
       ]
      }
     ],
     "prompt_number": 16
    },
    {
     "cell_type": "code",
     "collapsed": false,
     "input": [],
     "language": "python",
     "metadata": {},
     "outputs": [],
     "prompt_number": 36
    },
    {
     "cell_type": "code",
     "collapsed": false,
     "input": [],
     "language": "python",
     "metadata": {},
     "outputs": []
    }
   ],
   "metadata": {}
  }
 ]
}